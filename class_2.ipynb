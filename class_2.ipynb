{
  "nbformat": 4,
  "nbformat_minor": 0,
  "metadata": {
    "colab": {
      "provenance": [],
      "authorship_tag": "ABX9TyP1mY+oUJTUFw8+FwImOa2E",
      "include_colab_link": true
    },
    "kernelspec": {
      "name": "python3",
      "display_name": "Python 3"
    },
    "language_info": {
      "name": "python"
    }
  },
  "cells": [
    {
      "cell_type": "markdown",
      "metadata": {
        "id": "view-in-github",
        "colab_type": "text"
      },
      "source": [
        "<a href=\"https://colab.research.google.com/github/SyedSufiya/Adding/blob/main/class_2.ipynb\" target=\"_parent\"><img src=\"https://colab.research.google.com/assets/colab-badge.svg\" alt=\"Open In Colab\"/></a>"
      ]
    },
    {
      "cell_type": "markdown",
      "source": [
        "Different ML algorithms"
      ],
      "metadata": {
        "id": "ICO1MzySMs9m"
      }
    },
    {
      "cell_type": "code",
      "execution_count": null,
      "metadata": {
        "id": "4A9mlSDlMA0S"
      },
      "outputs": [],
      "source": [
        "# step1:import library\n",
        "import pandas as pd"
      ]
    },
    {
      "cell_type": "code",
      "source": [
        "# step2:import data\n",
        "salary = pd.read_csv('https://github.com/YBI-Foundation/Dataset/raw/main/Salary%20Data.csv')"
      ],
      "metadata": {
        "id": "WSku6TbWMG8V"
      },
      "execution_count": null,
      "outputs": []
    },
    {
      "cell_type": "code",
      "source": [
        "salary.head()"
      ],
      "metadata": {
        "id": "vKTvK0S3MHfi"
      },
      "execution_count": null,
      "outputs": []
    },
    {
      "cell_type": "code",
      "source": [
        "salary.info()"
      ],
      "metadata": {
        "id": "b9PXeOV5MHkI"
      },
      "execution_count": null,
      "outputs": []
    },
    {
      "cell_type": "code",
      "source": [
        "salary.describe()"
      ],
      "metadata": {
        "id": "FUJpaBksMHoa"
      },
      "execution_count": null,
      "outputs": []
    },
    {
      "cell_type": "code",
      "source": [
        "salary.columns"
      ],
      "metadata": {
        "id": "NHkr6TAJPBN_"
      },
      "execution_count": null,
      "outputs": []
    },
    {
      "cell_type": "code",
      "source": [
        "salary.shape"
      ],
      "metadata": {
        "colab": {
          "base_uri": "https://localhost:8080/"
        },
        "id": "jgc4oblRMHs7",
        "outputId": "304b145e-ed76-4137-baea-f0f1e1b34e98"
      },
      "execution_count": null,
      "outputs": [
        {
          "output_type": "execute_result",
          "data": {
            "text/plain": [
              "(40, 2)"
            ]
          },
          "metadata": {},
          "execution_count": 11
        }
      ]
    },
    {
      "cell_type": "markdown",
      "source": [
        "AI is like human when you want to do like human we use AI\n",
        "ML objective is to perdict,estimation,forecast something\n",
        "Deep learning is Same as ML objective but by using artificial neural N/W"
      ],
      "metadata": {
        "id": "GHyQ5OHwP4zr"
      }
    },
    {
      "cell_type": "markdown",
      "source": [
        "ML is of 2 types\n",
        "i)supervised\n",
        "ii)unsupervised\n",
        "supervised is of two types\n",
        "i)regrssion\n",
        "ii)classification\n",
        "y=continous -> regression problem\n",
        "y=categorical-> classification problem\n"
      ],
      "metadata": {
        "id": "zdPfE2__QzJ9"
      }
    },
    {
      "cell_type": "code",
      "source": [
        "#step3 = define target(y dependentvariable to be predicted) and features (x independent variable used to predict the varable y)"
      ],
      "metadata": {
        "id": "jLov5XKXPZpf"
      },
      "execution_count": null,
      "outputs": []
    },
    {
      "cell_type": "code",
      "source": [
        "salary.columns\n"
      ],
      "metadata": {
        "colab": {
          "base_uri": "https://localhost:8080/"
        },
        "id": "PxZFpdjwiLri",
        "outputId": "80ae2b31-d2ed-4d02-b2d5-67c8637219dd"
      },
      "execution_count": null,
      "outputs": [
        {
          "output_type": "execute_result",
          "data": {
            "text/plain": [
              "Index(['Experience Years', 'Salary'], dtype='object')"
            ]
          },
          "metadata": {},
          "execution_count": 12
        }
      ]
    },
    {
      "cell_type": "markdown",
      "source": [
        "#finding Y->salar dependent  on experience so we find it or predict it using x independent variable experience ,salary is continous variable it is regression problem"
      ],
      "metadata": {
        "id": "PkL78YjIlKfY"
      }
    },
    {
      "cell_type": "code",
      "source": [
        "y = salary['Salary']\n",
        "x = salary[['Experience Years']]\n",
        "#for deoendent use single bracket\n",
        "#for independent variable use doouble bracket\n",
        "# x is column variable\n",
        "# y is row variable"
      ],
      "metadata": {
        "id": "slmqACWAiLtP"
      },
      "execution_count": null,
      "outputs": []
    },
    {
      "cell_type": "code",
      "source": [
        "salary.shape"
      ],
      "metadata": {
        "id": "fBKENv_diL8B"
      },
      "execution_count": null,
      "outputs": []
    },
    {
      "cell_type": "code",
      "source": [
        "x.shape"
      ],
      "metadata": {
        "id": "9ZrO-qRQmUj8"
      },
      "execution_count": null,
      "outputs": []
    },
    {
      "cell_type": "code",
      "source": [
        "y.shape"
      ],
      "metadata": {
        "id": "6OTx_tg7mVGL"
      },
      "execution_count": null,
      "outputs": []
    }
  ]
}